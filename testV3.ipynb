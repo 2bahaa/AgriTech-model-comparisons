{
 "cells": [
  {
   "cell_type": "code",
   "execution_count": 17,
   "id": "c53cc8c3-b614-420e-98f5-956cf81d4984",
   "metadata": {},
   "outputs": [
    {
     "name": "stdout",
     "output_type": "stream",
     "text": [
      "\u001b[1m1/1\u001b[0m \u001b[32m━━━━━━━━━━━━━━━━━━━━\u001b[0m\u001b[37m\u001b[0m \u001b[1m2s\u001b[0m 2s/step\n",
      "Top 3 highest Predictions:\n",
      "1. Strawberry___healthy (99.95%)\n",
      "2. Apple___Apple_scab (0.02%)\n",
      "3. Apple___healthy (0.01%)\n"
     ]
    },
    {
     "data": {
      "text/plain": [
       "[('Strawberry___healthy', 99.9542236328125),\n",
       " ('Apple___Apple_scab', 0.024507558555342257),\n",
       " ('Apple___healthy', 0.009620710625313222)]"
      ]
     },
     "execution_count": 17,
     "metadata": {},
     "output_type": "execute_result"
    }
   ],
   "source": [
    "#Code to test the MobileNetV2 model and get highest 3 probabilities\n",
    "import tensorflow as tf\n",
    "import numpy as np\n",
    "from tensorflow.keras.preprocessing import image\n",
    "\n",
    "# Updated class labels\n",
    "class_labels = [\n",
    "    \"Apple___Apple_scab\", \n",
    "    \"Apple___Black_rot\", \n",
    "    \"Apple___Cedar_apple_rust\", \n",
    "    \"Apple___healthy\", \n",
    "    \"Grape___Esca_(Black_Measles)\", \n",
    "    \"Pepper,_bell___Bacterial_spot\", \n",
    "    \"Pepper,_bell___healthy\", \n",
    "    \"Potato___Early_blight\", \n",
    "    \"Potato___Late_blight\", \n",
    "    \"Potato___healthy\", \n",
    "    \"Strawberry___Leaf_scorch\", \n",
    "    \"Strawberry___healthy\", \n",
    "    \"Tomato___Bacterial_spot\", \n",
    "    \"Tomato___Early_blight\", \n",
    "    \"Tomato___Late_blight\", \n",
    "    \"Tomato___Leaf_Mold\", \n",
    "    \"Tomato___healthy\"\n",
    "]\n",
    "\n",
    "\n",
    "# Load the trained model\n",
    "model_path = \"E:\\DATA SETS\\MobileNetv2 comparison 12K\\Model.keras\"  # Update this path\n",
    "model = tf.keras.models.load_model(model_path)\n",
    "\n",
    "def preprocess_image(img_path):\n",
    "    \"\"\"Loads and preprocesses an image for prediction.\"\"\"\n",
    "    img = image.load_img(img_path, target_size=(224, 224))  # Resize to match model input\n",
    "    img_array = image.img_to_array(img)\n",
    "    img_array = np.expand_dims(img_array, axis=0)  # Add batch dimension\n",
    "    img_array /= 255.0  # Normalize\n",
    "    return img_array\n",
    "\n",
    "def predict_image(img_path):\n",
    "    \"\"\"Predicts the top 3 classes of a given image.\"\"\"\n",
    "    img_array = preprocess_image(img_path)\n",
    "    predictions = model.predict(img_array)\n",
    "    \n",
    "    # Get the top 3 indices with highest probabilities\n",
    "    top_3_indices = np.argsort(predictions[0])[-3:][::-1]  # Sort & get top 3\n",
    "    \n",
    "    # Extract class names and probabilities\n",
    "    top_3_classes = [class_labels[i] for i in top_3_indices]\n",
    "    top_3_confidences = [predictions[0][i] * 100 for i in top_3_indices]\n",
    "    \n",
    "    # Print results\n",
    "    print(\"Top 3 highest Predictions:\")\n",
    "    for i in range(3):\n",
    "        print(f\"{i+1}. {top_3_classes[i]} ({top_3_confidences[i]:.2f}%)\")\n",
    "    \n",
    "    return list(zip(top_3_classes, top_3_confidences))\n",
    "\n",
    "# Example usage\n",
    "image_path = r'E:\\DATA SETS\\split_dataset\\test\\Strawberry___healthy\\ee80b097-e9de-45ef-8c65-69b03a67c809___RS_HL 2152.JPG'  # Update this with your image path\n",
    "predict_image(image_path)\n"
   ]
  },
  {
   "cell_type": "code",
   "execution_count": 19,
   "id": "87e15b9f-d682-41b2-8fde-aa604a3b9974",
   "metadata": {},
   "outputs": [
    {
     "name": "stdout",
     "output_type": "stream",
     "text": [
      "\u001b[1m1/1\u001b[0m \u001b[32m━━━━━━━━━━━━━━━━━━━━\u001b[0m\u001b[37m\u001b[0m \u001b[1m1s\u001b[0m 1s/step\n",
      "Top 3 highest Predictions:\n",
      "1. Tomato___Late_blight (99.90%)\n",
      "2. Apple___healthy (0.06%)\n",
      "3. Tomato___healthy (0.02%)\n"
     ]
    },
    {
     "data": {
      "text/plain": [
       "[('Tomato___Late_blight', 99.90476965904236),\n",
       " ('Apple___healthy', 0.05507011082954705),\n",
       " ('Tomato___healthy', 0.015098539006430656)]"
      ]
     },
     "execution_count": 19,
     "metadata": {},
     "output_type": "execute_result"
    }
   ],
   "source": [
    "#Code to test the MobileNetV3small model and get highest 3 probabilities\n",
    "import tensorflow as tf\n",
    "import numpy as np\n",
    "from tensorflow.keras.preprocessing import image\n",
    "\n",
    "# Updated class labels\n",
    "class_labels = [\n",
    "    \"Apple___Apple_scab\", \n",
    "    \"Apple___Black_rot\", \n",
    "    \"Apple___Cedar_apple_rust\", \n",
    "    \"Apple___healthy\", \n",
    "    \"Grape___Esca_(Black_Measles)\", \n",
    "    \"Pepper,_bell___Bacterial_spot\", \n",
    "    \"Pepper,_bell___healthy\", \n",
    "    \"Potato___Early_blight\", \n",
    "    \"Potato___Late_blight\", \n",
    "    \"Potato___healthy\", \n",
    "    \"Strawberry___Leaf_scorch\", \n",
    "    \"Strawberry___healthy\", \n",
    "    \"Tomato___Bacterial_spot\", \n",
    "    \"Tomato___Early_blight\", \n",
    "    \"Tomato___Late_blight\", \n",
    "    \"Tomato___Leaf_Mold\", \n",
    "    \"Tomato___healthy\"\n",
    "]\n",
    "\n",
    "\n",
    "# Load the trained model\n",
    "model_path = \"E:\\DATA SETS\\Mobilenetv3small 96.2%\\Model17.keras\"  # Update this path\n",
    "model = tf.keras.models.load_model(model_path)\n",
    "\n",
    "def preprocess_image(img_path):\n",
    "    \"\"\"Loads and preprocesses an image for prediction.\"\"\"\n",
    "    img = image.load_img(img_path, target_size=(224, 224))  # Resize to match model input\n",
    "    img_array = image.img_to_array(img)\n",
    "    img_array = np.expand_dims(img_array, axis=0)  # Add batch dimension\n",
    "    img_array /= 255.0  # Normalize\n",
    "    return img_array\n",
    "\n",
    "def predict_image(img_path):\n",
    "    \"\"\"Predicts the top 3 classes of a given image.\"\"\"\n",
    "    img_array = preprocess_image(img_path)\n",
    "    predictions = model.predict(img_array)\n",
    "    \n",
    "    # Get the top 3 indices with highest probabilities\n",
    "    top_3_indices = np.argsort(predictions[0])[-3:][::-1]  # Sort & get top 3\n",
    "    \n",
    "    # Extract class names and probabilities\n",
    "    top_3_classes = [class_labels[i] for i in top_3_indices]\n",
    "    top_3_confidences = [predictions[0][i] * 100 for i in top_3_indices]\n",
    "    \n",
    "    # Print results\n",
    "    print(\"Top 3 highest Predictions:\")\n",
    "    for i in range(3):\n",
    "        print(f\"{i+1}. {top_3_classes[i]} ({top_3_confidences[i]:.2f}%)\")\n",
    "    \n",
    "    return list(zip(top_3_classes, top_3_confidences))\n",
    "\n",
    "# Example usage\n",
    "image_path = r'E:\\DATA SETS\\split_dataset\\test\\Strawberry___healthy\\ee80b097-e9de-45ef-8c65-69b03a67c809___RS_HL 2152.JPG'  # Update this with your image path\n",
    "predict_image(image_path)\n"
   ]
  },
  {
   "cell_type": "code",
   "execution_count": null,
   "id": "a5949f22-7907-4dcb-b4e7-9b6f80a5de37",
   "metadata": {},
   "outputs": [],
   "source": []
  }
 ],
 "metadata": {
  "kernelspec": {
   "display_name": "Python 3 (ipykernel)",
   "language": "python",
   "name": "python3"
  },
  "language_info": {
   "codemirror_mode": {
    "name": "ipython",
    "version": 3
   },
   "file_extension": ".py",
   "mimetype": "text/x-python",
   "name": "python",
   "nbconvert_exporter": "python",
   "pygments_lexer": "ipython3",
   "version": "3.11.7"
  }
 },
 "nbformat": 4,
 "nbformat_minor": 5
}
